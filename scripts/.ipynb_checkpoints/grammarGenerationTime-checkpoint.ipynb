{
 "cells": [
  {
   "cell_type": "markdown",
   "metadata": {},
   "source": [
    "## Needed libs"
   ]
  },
  {
   "cell_type": "code",
   "execution_count": 1,
   "metadata": {},
   "outputs": [
    {
     "ename": "ModuleNotFoundError",
     "evalue": "No module named 'requests'",
     "output_type": "error",
     "traceback": [
      "\u001b[1;31m---------------------------------------------------------------------------\u001b[0m",
      "\u001b[1;31mModuleNotFoundError\u001b[0m                       Traceback (most recent call last)",
      "Cell \u001b[1;32mIn[1], line 1\u001b[0m\n\u001b[1;32m----> 1\u001b[0m \u001b[38;5;28;01mimport\u001b[39;00m \u001b[38;5;21;01mrequests\u001b[39;00m\n\u001b[0;32m      2\u001b[0m \u001b[38;5;28;01mimport\u001b[39;00m \u001b[38;5;21;01mjson\u001b[39;00m\n\u001b[0;32m      3\u001b[0m \u001b[38;5;28;01mimport\u001b[39;00m \u001b[38;5;21;01mmatplotlib\u001b[39;00m\u001b[38;5;21;01m.\u001b[39;00m\u001b[38;5;21;01mpyplot\u001b[39;00m \u001b[38;5;28;01mas\u001b[39;00m \u001b[38;5;21;01mplt\u001b[39;00m\n",
      "\u001b[1;31mModuleNotFoundError\u001b[0m: No module named 'requests'"
     ]
    }
   ],
   "source": [
    "import requests\n",
    "import json\n",
    "import matplotlib.pyplot as plt\n",
    "import numpy as np\n",
    "from types import SimpleNamespace\n",
    "import time"
   ]
  },
  {
   "cell_type": "code",
   "execution_count": null,
   "metadata": {},
   "outputs": [],
   "source": [
    "amount_grammars_probability_based = []\n",
    "timeProbabilityBased = []\n",
    "\n",
    "amount_grammars_sample_based = []\n",
    "timeSampleProductions = []\n",
    "\n",
    "amount_grammars_concat_based = []\n",
    "timeConcatProductions = []\n",
    "\n",
    "def manipulate_probability_for_new_non_terminal():\n",
    "    return {\n",
    "      \"probabilityForNewNonTerminal\": 0.5,\n",
    "      \"probabilityForTerminal\": 0.5,\n",
    "      \"probabilityForMultipleRightSide\": 0.5,\n",
    "      \"probabilityFavourNonTerminalForTerminalOnRightSide\": 0.5,\n",
    "      \"probabilityFavourNonTerminalForTerminalInStartProduction\": 0.5,\n",
    "      \"decreasingProbabilityFactor\": 0.1\n",
    "    }"
   ]
  },
  {
   "cell_type": "code",
   "execution_count": null,
   "metadata": {},
   "outputs": [],
   "source": [
    "def request_probability_grammar (payload):    \n",
    "    headers = {'Content-type': 'application/json'}\n",
    "    response = requests.post(\"https://studienarbeit.mohjohfox.de/api/get/grammar/probability\", headers=headers, data=json.dumps(payload))\n",
    "    if response.status_code == 200:\n",
    "        # takes response as json\n",
    "        return response.json() \n",
    "\n",
    "def request_sample_productions_grammar ():    \n",
    "    headers = {'Content-type': 'application/json'}\n",
    "    response = requests.post(\"https://studienarbeit.mohjohfox.de/api/get/grammar/probability\", headers=headers)\n",
    "    if response.status_code == 200:\n",
    "        # takes response as json\n",
    "        return response.json()       \n",
    "    \n",
    "def request_concat_productions_grammar ():    \n",
    "    headers = {'Content-type': 'application/json'}\n",
    "    response = requests.post(\"https://studienarbeit.mohjohfox.de/api/get/grammar/probability\", headers=headers)\n",
    "    if response.status_code == 200:\n",
    "        # takes response as json\n",
    "        return response.json()      "
   ]
  },
  {
   "cell_type": "code",
   "execution_count": null,
   "metadata": {},
   "outputs": [],
   "source": [
    "start = 0\n",
    "end = 0\n",
    "amount_of_grammars = 50\n",
    "cycle_amount_of_grammars = 0\n",
    "\n",
    "for i in range(amount_of_grammars):\n",
    "    start = time.time()\n",
    "    for k in range(cycle_amount_of_grammars):\n",
    "        print(\"1: \" + str(k))\n",
    "        request_probability_grammar(manipulate_probability_for_new_non_terminal())\n",
    "    end = time.time()\n",
    "    amount_grammars_probability_based.append(cycle_amount_of_grammars)\n",
    "    timeProbabilityBased.append(end - start)\n",
    "\n",
    "    start = time.time()\n",
    "    for k in range(cycle_amount_of_grammars):\n",
    "        print(\"2: \" + str(k))\n",
    "        request_sample_productions_grammar()\n",
    "    end = time.time()\n",
    "    amount_grammars_sample_based.append(cycle_amount_of_grammars)\n",
    "    timeSampleProductions.append(end - start)\n",
    "\n",
    "\n",
    "    start = time.time()\n",
    "    for k in range(cycle_amount_of_grammars):\n",
    "        print(\"3: \" + str(k))\n",
    "        request_concat_productions_grammar()\n",
    "    end = time.time()\n",
    "    amount_grammars_concat_based.append(cycle_amount_of_grammars)\n",
    "    timeConcatProductions.append(end - start)\n",
    "\n",
    "    cycle_amount_of_grammars += 1"
   ]
  },
  {
   "cell_type": "code",
   "execution_count": null,
   "metadata": {},
   "outputs": [],
   "source": [
    "# Comment out the next three lines for default sizing\n",
    "f = plt.figure()\n",
    "f.set_figwidth(20)\n",
    "f.set_figheight(8)\n",
    "plt.plot(timeProbabilityBased, amount_grammars_probability_based)\n",
    "z = np.polyfit(timeProbabilityBased, amount_grammars_probability_based, 1)\n",
    "p = np.poly1d(z)\n",
    "plt.plot(timeProbabilityBased, p(timeProbabilityBased))\n",
    "plt.xlabel('Zeit')\n",
    "plt.ylabel('Anzahl wahrscheinlichkeitsbasierter Grammatiken')\n",
    "plt.show()\n",
    "\n",
    "# Comment out the next three lines for default sizing\n",
    "f = plt.figure()\n",
    "f.set_figwidth(20)\n",
    "f.set_figheight(8)\n",
    "plt.plot(timeSampleProductions, amount_grammars_sample_based)\n",
    "z = np.polyfit(timeSampleProductions, amount_grammars_sample_based, 1)\n",
    "p = np.poly1d(z)\n",
    "plt.plot(timeSampleProductions, p(timeSampleProductions))\n",
    "plt.xlabel('Zeit')\n",
    "plt.ylabel('Anzahl Grammatiken aus Musterproduktionen')\n",
    "plt.show()\n",
    "\n",
    "# Comment out the next three lines for default sizing\n",
    "f = plt.figure()\n",
    "f.set_figwidth(20)\n",
    "f.set_figheight(8)\n",
    "plt.plot(timeConcatProductions, amount_grammars_concat_based)\n",
    "z = np.polyfit(timeConcatProductions, amount_grammars_concat_based, 1)\n",
    "p = np.poly1d(z)\n",
    "plt.plot(timeConcatProductions, p(timeConcatProductions))\n",
    "plt.xlabel('Zeit')\n",
    "plt.ylabel('Anzahl Grammatiken mittels Konkatenation')\n",
    "plt.show()"
   ]
  }
 ],
 "metadata": {
  "kernelspec": {
   "display_name": "Python 3 (ipykernel)",
   "language": "python",
   "name": "python3"
  },
  "language_info": {
   "codemirror_mode": {
    "name": "ipython",
    "version": 3
   },
   "file_extension": ".py",
   "mimetype": "text/x-python",
   "name": "python",
   "nbconvert_exporter": "python",
   "pygments_lexer": "ipython3",
   "version": "3.10.11"
  }
 },
 "nbformat": 4,
 "nbformat_minor": 2
}
