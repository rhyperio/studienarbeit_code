{
 "cells": [
  {
   "cell_type": "code",
   "execution_count": 1,
   "metadata": {
    "collapsed": true,
    "ExecuteTime": {
     "end_time": "2023-05-21T07:14:24.801517900Z",
     "start_time": "2023-05-21T07:14:24.487519Z"
    }
   },
   "outputs": [
    {
     "ename": "ModuleNotFoundError",
     "evalue": "No module named 'requests'",
     "output_type": "error",
     "traceback": [
      "\u001B[1;31m---------------------------------------------------------------------------\u001B[0m",
      "\u001B[1;31mModuleNotFoundError\u001B[0m                       Traceback (most recent call last)",
      "Cell \u001B[1;32mIn[1], line 2\u001B[0m\n\u001B[0;32m      1\u001B[0m \u001B[38;5;66;03m## Needed libs\u001B[39;00m\n\u001B[1;32m----> 2\u001B[0m \u001B[38;5;28;01mimport\u001B[39;00m \u001B[38;5;21;01mrequests\u001B[39;00m\n\u001B[0;32m      3\u001B[0m \u001B[38;5;28;01mimport\u001B[39;00m \u001B[38;5;21;01mjson\u001B[39;00m\n\u001B[0;32m      4\u001B[0m \u001B[38;5;28;01mimport\u001B[39;00m \u001B[38;5;21;01mmatplotlib\u001B[39;00m\u001B[38;5;21;01m.\u001B[39;00m\u001B[38;5;21;01mpyplot\u001B[39;00m \u001B[38;5;28;01mas\u001B[39;00m \u001B[38;5;21;01mplt\u001B[39;00m\n",
      "\u001B[1;31mModuleNotFoundError\u001B[0m: No module named 'requests'"
     ]
    }
   ],
   "source": [
    "## Needed libs\n",
    "import requests\n",
    "import json\n",
    "import matplotlib.pyplot as plt\n",
    "import numpy as np\n",
    "from collections import Counter\n",
    "import time\n",
    "\n",
    "def request_sample_productions_grammar(payload):\n",
    "    headers = {'Content-type': 'application/json'}\n",
    "    response = requests.post(\"http://localhost:8080/api/get/grammar/pattern/withLimits\", headers=headers,\n",
    "                             data=json.dumps(payload))\n",
    "    if response.status_code == 200:\n",
    "        # takes response as json\n",
    "        return response.json()\n"
   ]
  },
  {
   "cell_type": "code",
   "execution_count": null,
   "outputs": [],
   "source": [
    "timeVariableTerminalsMean = []\n",
    "timeVariableNonTerminalsMean = []\n",
    "timeVariableTerminalsMedian = []\n",
    "timeVariableNonTerminalsMedian = []\n",
    "timeBothVariableMean = []\n",
    "timeBothVariableMedian = []\n",
    "productionsVariableTerminals = []\n",
    "productionsVariableNonTerminals = []\n",
    "productionsVariableBoth = []\n",
    "start = 0\n",
    "end = 0\n",
    "amount_of_grammars = 26\n",
    "\n",
    "for i in range(amount_of_grammars):\n",
    "    tmpValues1 = []\n",
    "    tmparr = []\n",
    "    for j in range(50):\n",
    "        start = time.time()\n",
    "        grammar = json.loads(request_sample_productions_grammar({\"countTerminals\": 3,\"countNonTerminals\": i+1}))\n",
    "        end = time.time()\n",
    "        c = Counter(k[:] for d in grammar for k, v in d.items() if k.startswith('leftSide'))\n",
    "        tmparr.append(c)\n",
    "        tmpValues1.append(end-start)\n",
    "\n",
    "    tmp = np.mean(tmpValues1)\n",
    "    timeVariableNonTerminalsMean.append(tmp)\n",
    "    tmp = np.median(tmpValues1)\n",
    "    timeVariableNonTerminalsMedian.append(tmp)\n",
    "    tmp = np.mean(tmparr)\n",
    "    productionsVariableNonTerminals.append(tmparr)\n",
    "\n",
    "    tmpValues2 = []\n",
    "    for j in range(50):\n",
    "        start = time.time()\n",
    "        request_sample_productions_grammar({\"countTerminals\": i+1,\"countNonTerminals\": 3})\n",
    "        end = time.time()\n",
    "        tmpValues2.append(end-start)\n",
    "    tmp = np.mean(tmpValues2)\n",
    "    timeVariableTerminalsMean.append(tmp)\n",
    "    tmp = np.median(tmpValues2)\n",
    "    timeVariableTerminalsMedian.append(tmp)\n",
    "\n",
    "\n",
    "    tmpValues3 = []\n",
    "    for j in range(50):\n",
    "        start = time.time()\n",
    "        request_sample_productions_grammar({\"countTerminals\": i+1,\"countNonTerminals\": i+1})\n",
    "        end = time.time()\n",
    "        tmpValues3.append(end-start)\n",
    "    tmp = np.mean(tmpValues3)\n",
    "    timeBothVariableMean.append(tmp)\n",
    "    tmp = np.median(tmpValues3)\n",
    "    timeBothVariableMedian.append(tmp)\n"
   ],
   "metadata": {
    "collapsed": false,
    "ExecuteTime": {
     "start_time": "2023-05-21T07:14:24.795519200Z"
    }
   }
  },
  {
   "cell_type": "code",
   "execution_count": null,
   "outputs": [],
   "source": [
    "# Comment out the next three lines for default sizing\n",
    "f = plt.figure()\n",
    "f.set_figwidth(20)\n",
    "f.set_figheight(8)\n",
    "plt.plot(timeVariableTerminalsMean)\n",
    "plt.plot(timeVariableTerminalsMedian)\n",
    "plt.xlabel('Anzahl Terminale')\n",
    "plt.ylabel('Zeit')\n",
    "plt.show()"
   ],
   "metadata": {
    "collapsed": false,
    "ExecuteTime": {
     "start_time": "2023-05-21T07:14:24.799519800Z"
    }
   }
  },
  {
   "cell_type": "code",
   "execution_count": null,
   "outputs": [],
   "source": [
    "# Comment out the next three lines for default sizing\n",
    "f = plt.figure()\n",
    "f.set_figwidth(20)\n",
    "f.set_figheight(8)\n",
    "plt.plot(timeVariableNonTerminalsMean)\n",
    "plt.plot(timeVariableNonTerminalsMedian)\n",
    "plt.xlabel('Anzahl Nichtterminale')\n",
    "plt.ylabel('Zeit')\n",
    "plt.show()"
   ],
   "metadata": {
    "collapsed": false
   }
  },
  {
   "cell_type": "code",
   "execution_count": null,
   "outputs": [],
   "source": [
    "# Comment out the next three lines for default sizing\n",
    "f = plt.figure()\n",
    "f.set_figwidth(20)\n",
    "f.set_figheight(8)\n",
    "plt.plot(timeBothVariableMean)\n",
    "plt.plot(timeBothVariableMedian)\n",
    "plt.xlabel('Anzahl Nichtterminale und Terminale')\n",
    "plt.ylabel('Zeit')\n",
    "plt.show()"
   ],
   "metadata": {
    "collapsed": false
   }
  },
  {
   "cell_type": "code",
   "execution_count": null,
   "outputs": [],
   "source": [
    "# Comment out the next three lines for default sizing\n",
    "f = plt.figure()\n",
    "f.set_figwidth(20)\n",
    "f.set_figheight(8)\n",
    "plt.plot(productionsVariableNonTerminals)\n",
    "plt.plot(productionsVariableNonTerminals)\n",
    "plt.xlabel('Anzahl Produktionen bei variablen Nichtterminalen')\n",
    "plt.ylabel('Zeit')\n",
    "plt.show()\n"
   ],
   "metadata": {
    "collapsed": false
   }
  }
 ],
 "metadata": {
  "kernelspec": {
   "display_name": "Python 3",
   "language": "python",
   "name": "python3"
  },
  "language_info": {
   "codemirror_mode": {
    "name": "ipython",
    "version": 2
   },
   "file_extension": ".py",
   "mimetype": "text/x-python",
   "name": "python",
   "nbconvert_exporter": "python",
   "pygments_lexer": "ipython2",
   "version": "2.7.6"
  }
 },
 "nbformat": 4,
 "nbformat_minor": 0
}
